{
 "cells": [
  {
   "cell_type": "markdown",
   "id": "ea313356",
   "metadata": {},
   "source": [
    "# "
   ]
  },
  {
   "cell_type": "code",
   "execution_count": 1,
   "id": "dc529801",
   "metadata": {},
   "outputs": [
    {
     "name": "stdout",
     "output_type": "stream",
     "text": [
      "Hola Mundo\n"
     ]
    }
   ],
   "source": [
    "print('Hola Mundo')"
   ]
  },
  {
   "cell_type": "code",
   "execution_count": null,
   "id": "0a8eaa3a",
   "metadata": {},
   "outputs": [],
   "source": [
    "edad = 20 # -> Integer\n",
    "altura = 1.80 # -> Float\n",
    "nombre = 'Pedro' # -> String (str)\n",
    "feliz = True # -> Booleano"
   ]
  },
  {
   "cell_type": "code",
   "execution_count": 3,
   "id": "58653e0d",
   "metadata": {},
   "outputs": [
    {
     "name": "stdout",
     "output_type": "stream",
     "text": [
      "Soy Isaac Alvarez, tengo 21 anhos y vivo en Villa Elisa\n"
     ]
    }
   ],
   "source": [
    "nombre = 'Isaac'\n",
    "apellido = 'Alvarez'\n",
    "edad = 21\n",
    "ciudad = 'Villa Elisa'\n",
    "\n",
    "print(f'Soy {nombre} {apellido}, tengo {edad} anhos y vivo en {ciudad}')"
   ]
  },
  {
   "cell_type": "code",
   "execution_count": null,
   "id": "be123872",
   "metadata": {},
   "outputs": [
    {
     "name": "stdout",
     "output_type": "stream",
     "text": [
      "La suma total de frutas es 50\n",
      "La cantidad de frutas restantes es 40\n"
     ]
    }
   ],
   "source": [
    "cantidad_manzanas = 30\n",
    "cantidad_naranjas = 20\n",
    "\n",
    "cantidad_de_frutas = cantidad_manzanas + cantidad_naranjas\n",
    "\n",
    "print(f'La suma total de frutas es {cantidad_de_frutas}')\n",
    "\n",
    "frutas_vendidas = 10\n",
    "frutas_restantes = cantidad_de_frutas - frutas_vendidas\n",
    "\n",
    "print(f'La cantidad de frutas restantes es {frutas_restantes}')\n",
    "\n",
    "\n"
   ]
  },
  {
   "cell_type": "markdown",
   "id": "0c9889f2",
   "metadata": {},
   "source": [
    "# Challenge\n",
    "\n",
    "Asignar el nombre y el apellido de tu compañera/o a las variables nombre y apellido. Luego, imprimir una frase, utilizando las variables.\n",
    "EJEMPLO: \"Hola. Me llamo Claudia Melgarejo. Mucho gusto.\""
   ]
  },
  {
   "cell_type": "code",
   "execution_count": null,
   "id": "c005fb7c",
   "metadata": {},
   "outputs": [
    {
     "name": "stdout",
     "output_type": "stream",
     "text": [
      "El nombre completo de mi companhero es Edgar Zelada\n"
     ]
    }
   ],
   "source": [
    "nombre = 'Edgar'\n",
    "apellido = 'Zelada'\n",
    "\n",
    "print(f'El nombre completo de mi compañero es {nombre} {apellido}') \n"
   ]
  },
  {
   "cell_type": "code",
   "execution_count": null,
   "id": "674ded7b",
   "metadata": {},
   "outputs": [],
   "source": [
    "nombre = input('Escriba su nombre')\n",
    "\n",
    "print(nombre)"
   ]
  },
  {
   "cell_type": "markdown",
   "id": "25111a85",
   "metadata": {},
   "source": [
    "# Challenge \n",
    "Solicitar al usuario ingresar dos números y almacenarlos en dos variables. Luego, imprimir la suma de los dos números."
   ]
  },
  {
   "cell_type": "code",
   "execution_count": 3,
   "id": "5bb8280e",
   "metadata": {},
   "outputs": [
    {
     "name": "stdout",
     "output_type": "stream",
     "text": [
      "La suma de los dos numero es 573\n"
     ]
    }
   ],
   "source": [
    "numero1 = int(input('Ingrese su primer numero'))\n",
    "numero2 = int(input('Ingrese su segundo numero'))\n",
    "\n",
    "print(f'La suma de los dos numero es {numero1 + numero2}')"
   ]
  },
  {
   "cell_type": "code",
   "execution_count": 11,
   "id": "a26b5374",
   "metadata": {},
   "outputs": [
    {
     "name": "stdout",
     "output_type": "stream",
     "text": [
      "Hola soy Isaac y tengo 20 anhos\n"
     ]
    }
   ],
   "source": [
    "def saludo():\n",
    "    nombre = input('Ingrese su nombre')\n",
    "    edad = int(input('Ingrese su edad'))\n",
    "\n",
    "    print(f'Hola soy {nombre} y tengo {edad} anhos')\n",
    "\n",
    "saludo()"
   ]
  },
  {
   "cell_type": "code",
   "execution_count": 20,
   "id": "56901d3a",
   "metadata": {},
   "outputs": [
    {
     "name": "stdout",
     "output_type": "stream",
     "text": [
      "Hola soy isaac y tengo 20 anhos\n"
     ]
    }
   ],
   "source": [
    "saludo()"
   ]
  },
  {
   "cell_type": "markdown",
   "id": "d38fe522",
   "metadata": {},
   "source": [
    "# Challenge\n",
    "Crear una funcion de un proceso que se me ocurra que tenga varios pasos, ejecutar la funcion 3 veces"
   ]
  },
  {
   "cell_type": "code",
   "execution_count": null,
   "id": "ec4e9931",
   "metadata": {},
   "outputs": [
    {
     "name": "stdout",
     "output_type": "stream",
     "text": [
      "El area de su triangulo es 4.0\n",
      "==============================\n",
      "Ahora tomemos un cafecito\n",
      "1. Poner agua en la cafetera\n",
      "2. Agregar cafe al filtro\n",
      "3. Encender la cafetera\n",
      "4. Esperar a que termine\n",
      "5. Servir el cafe en una taza\n",
      "6. Disfrutar\n",
      "------------------------------\n"
     ]
    }
   ],
   "source": [
    "def area_triangulo():\n",
    "    b = float(input('Ingrese la base de su triangulo'))\n",
    "    h = float(input('Ingrese la altura de su triangulo'))\n",
    "\n",
    "    area = (b * h)/2\n",
    "\n",
    "    print(f'El area de su triangulo es {area}')\n",
    "area_triangulo()\n",
    "\n",
    "\n",
    "print('=' * 30)\n",
    "\n",
    "\n",
    "def hacer_cafe():\n",
    "    print('Ahora tomemos un cafecito')\n",
    "    print('1. Poner agua en la cafetera')\n",
    "    print('2. Agregar cafe al filtro')\n",
    "    print('3. Encender la cafetera')\n",
    "    print('4. Esperar a que termine')\n",
    "    print('5. Servir el cafe en una taza')\n",
    "    print('6. Disfrutar')\n",
    "    print('-' * 30)\n",
    "hacer_cafe()\n",
    "\n"
   ]
  },
  {
   "cell_type": "code",
   "execution_count": null,
   "id": "78437e16",
   "metadata": {},
   "outputs": [
    {
     "name": "stdout",
     "output_type": "stream",
     "text": [
      "Hola soy Eduardo y tengo 20 anhos\n"
     ]
    }
   ],
   "source": [
    "# Parametro: Lo que necesita la funcion para funcionar \n",
    "# Argumento: \n",
    "\n",
    "def saludo(nombre, edad): #Estos son los parametros\n",
    "\n",
    "    print(f'Hola soy {nombre} y tengo {edad} anhos')\n",
    "\n",
    "saludo('Eduardo', 20) # Estos son los argumentos"
   ]
  },
  {
   "cell_type": "markdown",
   "id": "6825f97c",
   "metadata": {},
   "source": [
    "# Challenge \n",
    "Escribir una funcion que pregunte las caracteristicas de un elemento a comprar e imprima el elemento con sus caracteristicas\n"
   ]
  },
  {
   "cell_type": "code",
   "execution_count": 36,
   "id": "85fb5a72",
   "metadata": {},
   "outputs": [
    {
     "name": "stdout",
     "output_type": "stream",
     "text": [
      "Producto: iPhone 15\n",
      "Color: Negro\n",
      "Precio: 6.000.000\n",
      "Almacenamiento: 128gb\n"
     ]
    }
   ],
   "source": [
    "def comprar_celular(producto, color, precio, almacenamiento):\n",
    "\n",
    "    print(f'Producto: {producto}')\n",
    "    print(f'Color: {color}')\n",
    "    print(f'Precio: {precio}')\n",
    "    print(f'Almacenamiento: {almacenamiento}')\n",
    "\n",
    "producto_nombre = input('Digite el nombre del producto')\n",
    "producto_color = input('Digite el color del producto')\n",
    "producto_precio = input('Digite el precio del producto')\n",
    "producto_almacenamiento = input('Digite el almacenamiento del producto')\n",
    "\n",
    "comprar_celular(producto_nombre, producto_color, producto_precio, producto_almacenamiento)"
   ]
  }
 ],
 "metadata": {
  "kernelspec": {
   "display_name": ".venv",
   "language": "python",
   "name": "python3"
  },
  "language_info": {
   "codemirror_mode": {
    "name": "ipython",
    "version": 3
   },
   "file_extension": ".py",
   "mimetype": "text/x-python",
   "name": "python",
   "nbconvert_exporter": "python",
   "pygments_lexer": "ipython3",
   "version": "3.12.3"
  }
 },
 "nbformat": 4,
 "nbformat_minor": 5
}
