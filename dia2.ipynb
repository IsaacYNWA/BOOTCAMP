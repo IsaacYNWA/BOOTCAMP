{
 "cells": [
  {
   "cell_type": "code",
   "execution_count": 2,
   "id": "ca01e231",
   "metadata": {},
   "outputs": [
    {
     "name": "stdout",
     "output_type": "stream",
     "text": [
      "Verificar los datos\n",
      "Retirar el vehiculo\n",
      "Cobrar el servicio\n",
      "Entregar al dueño\n",
      "Marca: MERCEDEZ\n",
      "Color: Negro\n",
      "chapa: NJHG 564\n",
      "Modelo: GL300\n"
     ]
    }
   ],
   "source": [
    "def buscar_auto(marca,color,chapa,modelo):\n",
    "    print('Verificar los datos')\n",
    "    print('Retirar el vehiculo')\n",
    "    print('Cobrar el servicio')\n",
    "    print('Entregar al dueño')\n",
    "    print(f'Marca: {marca}')\n",
    "    print(f'Color: {color}')\n",
    "    print(f'chapa: {chapa}')\n",
    "    print(f'Modelo: {modelo}')\n",
    "\n",
    "auto_marca = input('Digite la marca del vehiculo')\n",
    "auto_color = input('Digite el color del vehiculo')\n",
    "auto_chapa = input('Ingrese la chapa del vehiculo')\n",
    "auto_modelo = input('Ingrese el modelo del vehiculo')\n",
    "\n",
    "buscar_auto(auto_marca,auto_color,auto_chapa,auto_modelo)\n",
    "\n"
   ]
  },
  {
   "cell_type": "markdown",
   "id": "8e2ca50f",
   "metadata": {},
   "source": [
    "# Condicionales\n",
    "Las condicionales nos permiten validar una condición en especifico para asi permitir o denegar que python ejecute una instrucción o pase a la siguiente\n",
    "\n",
    "# Operadores Logicos\n",
    "- < Menor que otro\n",
    "- > = Mayor o igual que otro\n",
    "- <= Menor o igual que otro\n",
    "- == Igual a otro (No confundir con =)\n",
    "- != Desigual o distinto a otro"
   ]
  },
  {
   "cell_type": "markdown",
   "id": "0edd0838",
   "metadata": {},
   "source": [
    "# Challenge\n",
    "\n",
    "Escribe un programa que pregunte al usuario por su edad y determine si tiene edad suficiente para comprar y consumir alcohol.\n",
    "Si el usuario tiene mas de 18 pero menos de 21 impirmir \"Podes tomar pero no comprar\"\n",
    "Si el usuario tiene menos de 18 imprimir \"Juguito nomas\"\n",
    "Si el usuario tiene mas de 21 imprimir \"Hace lo que quieras\""
   ]
  },
  {
   "cell_type": "code",
   "execution_count": 9,
   "id": "9f78f361",
   "metadata": {},
   "outputs": [
    {
     "name": "stdout",
     "output_type": "stream",
     "text": [
      "Hace lo que quieras\n"
     ]
    }
   ],
   "source": [
    "edad_usuario = int(input('Ingrese su edad'))\n",
    "\n",
    "if edad_usuario >= 18 and edad_usuario <= 21:\n",
    "    print('Podes tomar pero no comprar')\n",
    "elif edad_usuario < 18:\n",
    "    print('Juguito nomas')\n",
    "else:\n",
    "    print('Hace lo que quieras')"
   ]
  },
  {
   "cell_type": "code",
   "execution_count": 17,
   "id": "84fb592a",
   "metadata": {},
   "outputs": [
    {
     "name": "stdout",
     "output_type": "stream",
     "text": [
      "Hace lo que quieras\n"
     ]
    }
   ],
   "source": [
    "edad_usuario = int(input('Ingrese su edad'))\n",
    "\n",
    "if edad_usuario < 18:\n",
    "    print('Juguito nomas')\n",
    "elif edad_usuario <= 21:\n",
    "    print('Podes tomar pero no comprar')\n",
    "else:\n",
    "    print('Hace lo que quieras')"
   ]
  },
  {
   "cell_type": "markdown",
   "id": "39b5e2e9",
   "metadata": {},
   "source": [
    "# Challenge \n",
    "\n",
    "Escribir un programa en el que se pregunte al usuario por una temperatura (en grados celsius), imprima la temperatura escrita, y luego clasificar la temperatura ingresada en los siguientes niveles:\n",
    "- Entre -10 y 18 grados, que imprima \"Fresquete\".\n",
    "- Entre 19 y 30 grados, que imprima \"Calor'i\".\n",
    "- Entre 31 y 45 grados, que imprima \"Hakuuuuuu\".\n",
    "- Para todo lo demás, imprimir \"Ñamano mba'e!\"."
   ]
  },
  {
   "cell_type": "code",
   "execution_count": null,
   "id": "d98a2f5f",
   "metadata": {},
   "outputs": [
    {
     "name": "stdout",
     "output_type": "stream",
     "text": [
      "Hace 21.6 grados celsius\n",
      "Hace Calor'i\n"
     ]
    }
   ],
   "source": [
    "temperatura = int(input('Escriba la temperatura actualmente'))\n",
    "\n",
    "print(f'Hace {temperatura} grados celsius')\n",
    "\n",
    "if temperatura < -11:\n",
    "    print('CONGELAAA')\n",
    "elif temperatura >= -10 and temperatura <= 18:\n",
    "    print('Esta haciendo fresquete')\n",
    "elif temperatura >= 19 and temperatura <= 30:\n",
    "    print(\"Hace Calor'i\")\n",
    "elif temperatura >= 31 and temperatura <= 45:\n",
    "    print('Hakuuuuuuuuuu')\n",
    "else:\n",
    "    print(\"Ñamano mba'e!\")"
   ]
  },
  {
   "cell_type": "markdown",
   "id": "1adc8e43",
   "metadata": {},
   "source": [
    "# Bucles Condicionales\n",
    "\n",
    "While nos permite ejecutar una serie de instrucciones mientras una condicion se cumpla. "
   ]
  },
  {
   "cell_type": "code",
   "execution_count": 41,
   "id": "d44f6fb4",
   "metadata": {},
   "outputs": [
    {
     "name": "stdout",
     "output_type": "stream",
     "text": [
      "30\n",
      "21\n",
      "3\n",
      "2\n",
      "3\n",
      "4\n",
      "56\n",
      "15\n",
      "Adivinaste\n"
     ]
    }
   ],
   "source": [
    "numero_a_adivinar = 15\n",
    "numero = 0\n",
    "\n",
    "while numero != numero_a_adivinar:\n",
    "    numero = int(input('Introduce un numero'))\n",
    "    print(numero)\n",
    "\n",
    "print('Adivinaste')"
   ]
  },
  {
   "cell_type": "markdown",
   "id": "0b11741c",
   "metadata": {},
   "source": [
    "# Bucles infinitos y su utilidad\n",
    "\n",
    "Un bucle infinito sucede cuando la condicion siempre es cierta por lo tanto el bucle no termina de ejecutarse. \"Break\" es una palabra reservada que nos permite salir del bucle"
   ]
  },
  {
   "cell_type": "code",
   "execution_count": null,
   "id": "0942b7c9",
   "metadata": {},
   "outputs": [
    {
     "name": "stdout",
     "output_type": "stream",
     "text": [
      "El numero es incorrecto\n",
      "El numero es incorrecto\n",
      "El numero es incorrecto\n",
      "El numero es incorrecto\n",
      "El numero es incorrecto\n",
      "El numero es correcto\n"
     ]
    }
   ],
   "source": [
    "\n",
    "numero = 5\n",
    "\n",
    "while True:\n",
    "    \n",
    "    numero_ingresado = int(input('Ingrese un numero'))\n",
    "\n",
    "    if numero_ingresado == numero:\n",
    "        print('El numero es correcto')\n",
    "        break\n",
    "    else:\n",
    "        print('El numero es incorrecto')"
   ]
  },
  {
   "cell_type": "markdown",
   "id": "386c095d",
   "metadata": {},
   "source": [
    "# Challenge\n",
    "\n",
    "Escribir un programa que almacene una contraseña en una variable, y pregunte al usuario por la contraseña hasta que introduzca la contraseña correcta. Cuando el usuario ingrese la contraseña correcta, imprimir un mensaje secreto\n"
   ]
  },
  {
   "cell_type": "code",
   "execution_count": null,
   "id": "4744ab6d",
   "metadata": {},
   "outputs": [
    {
     "name": "stdout",
     "output_type": "stream",
     "text": [
      "Contraseña incorrecta\n",
      "Contraseña incorrecta\n",
      "Contraseña incorrecta\n",
      "Contraseña incorrecta\n",
      "Contraseña incorrecta\n",
      "Encontraste el mensaje correcto\n"
     ]
    }
   ],
   "source": [
    "pin = 123\n",
    "\n",
    "while True:\n",
    "    pin_usuario = int(input('Ingrese el pin'))\n",
    "\n",
    "    if pin_usuario == pin:\n",
    "        print('Encontraste el mensaje secreto')\n",
    "        break\n",
    "    else:\n",
    "        print('Contraseña incorrecta')\n",
    "        \n",
    "\n"
   ]
  },
  {
   "cell_type": "code",
   "execution_count": null,
   "id": "0a9a8f38",
   "metadata": {},
   "outputs": [
    {
     "name": "stdout",
     "output_type": "stream",
     "text": [
      "Correcto!!!, regalame stickerss 🙂 \n"
     ]
    }
   ],
   "source": [
    "contrasenha = \"12345\"\n",
    "\n",
    "contrasenha_ingresada = input(\"Ingrese una contraseña de 5 digitos\")\n",
    "\n",
    "while contrasenha != contrasenha_ingresada:\n",
    "\n",
    "    print(\"Contraseña incorrecta, intente de nuevo!\")\n",
    "    contrasenha_ingresada = input(\"Ingrese una contraseña de 5 digitos\")\n",
    "\n",
    "print(\"Correcto!!!, regalame stickerss\")"
   ]
  },
  {
   "cell_type": "markdown",
   "id": "4589b371",
   "metadata": {},
   "source": [
    "# Listas\n",
    "\n"
   ]
  },
  {
   "cell_type": "code",
   "execution_count": null,
   "id": "42888b1f",
   "metadata": {},
   "outputs": [
    {
     "name": "stdout",
     "output_type": "stream",
     "text": [
      "piña\n",
      "True\n",
      "['manzana', 'Banana', 'piña', 'kiwi']\n",
      "['manzana', 'Banana', 'kiwi']\n",
      "['manzana', 'Banana']\n"
     ]
    }
   ],
   "source": [
    "lista_frutas = ['manzana', 'pera', 'piña'] #Posicion desde 1 e Indice va desde 0\n",
    "lista_variada = [1,'str',True,3.2]\n",
    "\n",
    "print(lista_frutas[2])\n",
    "print(lista_variada[2])\n",
    "\n",
    "lista_frutas.append('kiwi') #Agregar un elemento en la ultima posicion de mi lista\n",
    "\n",
    "#Para modificar un elemento debo guiarme por el indice\n",
    "lista_frutas[1] = 'Banana'\n",
    "print(lista_frutas)\n",
    "\n",
    "#ELiminar un elemento pero especificando su valor\n",
    "lista_frutas.remove('piña')\n",
    "print(lista_frutas)\n",
    "\n",
    "#Eliminar por indice\n",
    "lista_frutas.pop(2)\n",
    "print(lista_frutas)\n"
   ]
  },
  {
   "cell_type": "markdown",
   "id": "fad5b0d6",
   "metadata": {},
   "source": [
    "# Challenge\n",
    "\n",
    "Crear una lista de 5 elementos. Luego, seguir los siguientes pasos.\n",
    "\n",
    "- Agregar un elemento al final de la lista.\n",
    "\n",
    "- Modificar el segundo elemento.\n",
    "\n",
    "- Eliminar el tercer elemento."
   ]
  },
  {
   "cell_type": "code",
   "execution_count": null,
   "id": "b4e74280",
   "metadata": {},
   "outputs": [
    {
     "name": "stdout",
     "output_type": "stream",
     "text": [
      "['cama', 'librero', 'puerta', 'ventana', 'ropero']\n",
      "['cama', 'perchero', 'puerta', 'ventana', 'ropero']\n",
      "['cama', 'perchero', 'ventana', 'ropero']\n",
      "['colchon', 'cama', 'perchero', 'ventana', 'ropero']\n"
     ]
    }
   ],
   "source": [
    "habitacion = ['cama', 'librero', 'puerta', 'ventana']\n",
    "\n",
    "habitacion.append('ropero')\n",
    "\n",
    "print(habitacion)\n",
    "\n",
    "habitacion[1] = 'perchero'\n",
    "\n",
    "print(habitacion)\n",
    "\n",
    "habitacion.pop(2)\n",
    "\n",
    "print(habitacion)\n",
    "\n",
    "habitacion.insert(0,'colchon')\n",
    "\n",
    "print(habitacion)   \n",
    "\n",
    "print(len(habitacion)) #Cuenta la cantidad de elementos de una lista"
   ]
  },
  {
   "cell_type": "markdown",
   "id": "90b4bf85",
   "metadata": {},
   "source": [
    "# Bucle Iterativos (For)\n",
    "Cuando queremos repetir una accion una cierta cantidad de veces, podemos utilizar"
   ]
  },
  {
   "cell_type": "code",
   "execution_count": 75,
   "id": "ea96b9f6",
   "metadata": {},
   "outputs": [
    {
     "name": "stdout",
     "output_type": "stream",
     "text": [
      "Hola gente\n",
      "Hola gente\n",
      "Hola gente\n",
      "Hola gente\n",
      "Hola gente\n"
     ]
    }
   ],
   "source": [
    "for i in range(5):\n",
    "    print('Hola gente')"
   ]
  },
  {
   "cell_type": "code",
   "execution_count": 76,
   "id": "d0356d68",
   "metadata": {},
   "outputs": [
    {
     "name": "stdout",
     "output_type": "stream",
     "text": [
      "0\n",
      "1\n",
      "2\n",
      "3\n",
      "4\n"
     ]
    }
   ],
   "source": [
    "for iterador in range(5):\n",
    "    print(iterador)"
   ]
  },
  {
   "cell_type": "markdown",
   "id": "715edf42",
   "metadata": {},
   "source": [
    "# Challenger\n",
    "\n",
    "Escribir un programa que itere un rango de 10 veces por cada iteracion multiplicar el iterador por 2 e imprimir el resultado"
   ]
  },
  {
   "cell_type": "code",
   "execution_count": 81,
   "id": "b66e875b",
   "metadata": {},
   "outputs": [
    {
     "name": "stdout",
     "output_type": "stream",
     "text": [
      "El iterador es 0\n",
      "El iterador es 2\n",
      "El iterador es 4\n",
      "El iterador es 6\n",
      "El iterador es 8\n",
      "El iterador es 10\n",
      "El iterador es 12\n",
      "El iterador es 14\n",
      "El iterador es 16\n",
      "El iterador es 18\n"
     ]
    }
   ],
   "source": [
    "for i in range (10):\n",
    "    i *= 2\n",
    "    print(f'El iterador es {i}')"
   ]
  },
  {
   "cell_type": "code",
   "execution_count": 82,
   "id": "7c5e75d5",
   "metadata": {},
   "outputs": [
    {
     "name": "stdout",
     "output_type": "stream",
     "text": [
      "El valor del iterador en la posicion 1 es de 2\n",
      "El valor del iterador en la posicion 2 es de 4\n",
      "El valor del iterador en la posicion 3 es de 6\n",
      "El valor del iterador en la posicion 4 es de 8\n",
      "El valor del iterador en la posicion 5 es de 10\n",
      "El valor del iterador en la posicion 6 es de 12\n",
      "El valor del iterador en la posicion 7 es de 14\n",
      "El valor del iterador en la posicion 8 es de 16\n",
      "El valor del iterador en la posicion 9 es de 18\n",
      "El valor del iterador en la posicion 10 es de 20\n"
     ]
    }
   ],
   "source": [
    "for i in range(10):\n",
    "    print (f'El valor del iterador en la posicion {i+1} es de {(i+1)*2}')"
   ]
  },
  {
   "cell_type": "code",
   "execution_count": 83,
   "id": "e9573dad",
   "metadata": {},
   "outputs": [
    {
     "name": "stdout",
     "output_type": "stream",
     "text": [
      "0 - 0\n",
      "1 - 2\n",
      "2 - 4\n",
      "3 - 6\n",
      "4 - 8\n",
      "5 - 10\n",
      "6 - 12\n",
      "7 - 14\n",
      "8 - 16\n",
      "9 - 18\n"
     ]
    }
   ],
   "source": [
    "for i in range(10):\n",
    "    print(i,'-',i*2)"
   ]
  },
  {
   "cell_type": "code",
   "execution_count": 85,
   "id": "c13d51ef",
   "metadata": {},
   "outputs": [
    {
     "name": "stdout",
     "output_type": "stream",
     "text": [
      "cuaderno\n",
      "boligrafo\n",
      "lapiz\n",
      "borrador\n"
     ]
    }
   ],
   "source": [
    "lista_de_utiles = ['cuaderno', 'boligrafo', 'lapiz', 'borrador']\n",
    "\n",
    "for utiles in lista_de_utiles:\n",
    "    print(utiles)"
   ]
  },
  {
   "cell_type": "markdown",
   "id": "66761c75",
   "metadata": {},
   "source": [
    "# Challenge \n",
    "\n",
    "Recorrer los elementos de una lista de marcas e imprimir cada marca solamente si tiene 6 letras"
   ]
  },
  {
   "cell_type": "code",
   "execution_count": 89,
   "id": "a0781f3e",
   "metadata": {},
   "outputs": [
    {
     "name": "stdout",
     "output_type": "stream",
     "text": [
      "Reebok\n",
      "Mercedes\n",
      "Toyota\n"
     ]
    }
   ],
   "source": [
    "marcas = ['Nike', 'Puma', 'Reebok', 'Mercedes', 'Toyota']\n",
    "\n",
    "for marca in marcas:\n",
    "    if len(marca) >= 6: #Len leer cada elemento\n",
    "        print(marca)\n"
   ]
  },
  {
   "cell_type": "markdown",
   "id": "600320ea",
   "metadata": {},
   "source": [
    "# Challenge\n",
    "\n",
    "Solicitar al usuario que ingrese una frase\n",
    "imprimir un mensaje cada vez que se encuentre una letra \"o\".\n"
   ]
  },
  {
   "cell_type": "code",
   "execution_count": 93,
   "id": "bb4fb80b",
   "metadata": {},
   "outputs": [
    {
     "name": "stdout",
     "output_type": "stream",
     "text": [
      "H\n",
      "X Encontraste la letra O\n",
      "r\n",
      "X Encontraste la letra O\n",
      "s\n",
      "C\n",
      "X Encontraste la letra O\n",
      "p\n",
      "X Encontraste la letra O\n"
     ]
    }
   ],
   "source": [
    "frase_usuario = input('Ingrese su frase')\n",
    "\n",
    "for frase in frase_usuario:\n",
    "    if frase == \"o\" or frase == \"O\":\n",
    "        print('X Encontraste la letra O')\n",
    "    else:\n",
    "        print(frase)"
   ]
  }
 ],
 "metadata": {
  "kernelspec": {
   "display_name": ".venv",
   "language": "python",
   "name": "python3"
  },
  "language_info": {
   "codemirror_mode": {
    "name": "ipython",
    "version": 3
   },
   "file_extension": ".py",
   "mimetype": "text/x-python",
   "name": "python",
   "nbconvert_exporter": "python",
   "pygments_lexer": "ipython3",
   "version": "3.12.3"
  }
 },
 "nbformat": 4,
 "nbformat_minor": 5
}
